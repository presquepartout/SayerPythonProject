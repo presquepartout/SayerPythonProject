{
 "cells": [
  {
   "cell_type": "markdown",
   "metadata": {},
   "source": [
    "# Lesson 3 Notebook\n",
    "\n",
    "This is a markdown cell. "
   ]
  },
  {
   "cell_type": "code",
   "execution_count": 1,
   "metadata": {
    "collapsed": false
   },
   "outputs": [
    {
     "name": "stdout",
     "output_type": "stream",
     "text": [
      "9\n",
      "14.0\n"
     ]
    }
   ],
   "source": [
    "# This is a code cell. You can run it by putting the cursor in it, and clicking the \n",
    "# triangle button below \"Cell\" above. \n",
    "print 7 + 2\n",
    "print 7*2.0"
   ]
  },
  {
   "cell_type": "markdown",
   "metadata": {},
   "source": [
    "## Review of types: \n",
    "\n",
    "In the following code cell, fill in examples of different types. Assign variables as follows: \n",
    "\n",
    "- a  - a string (str)\n",
    "- b - an int\n",
    "- c - a float\n",
    "- d - a boolean\n",
    "- e - another boolean\n",
    "- f - a new boolean which is d and e"
   ]
  },
  {
   "cell_type": "code",
   "execution_count": null,
   "metadata": {
    "collapsed": true
   },
   "outputs": [],
   "source": [
    "# Fill in this cell and run it. \n",
    "a = \n",
    "b = \n",
    "c =\n",
    "d =\n",
    "e = \n",
    "f = "
   ]
  },
  {
   "cell_type": "code",
   "execution_count": null,
   "metadata": {
    "collapsed": true
   },
   "outputs": [],
   "source": [
    "#Run this cell to test your entries in the previous cell. \n",
    "#The types should correspond. \n",
    "print type(a)\n",
    "print type(b)\n",
    "print type(c)\n",
    "print type(d)\n",
    "print type(e)\n",
    "print type(f)"
   ]
  },
  {
   "cell_type": "markdown",
   "metadata": {},
   "source": [
    "### A new type of list: range"
   ]
  },
  {
   "cell_type": "code",
   "execution_count": null,
   "metadata": {
    "collapsed": true
   },
   "outputs": [],
   "source": [
    "print range(5)\n",
    "print range(3, 10)\n",
    "print range(0, 20, 2)\n",
    "print type(range)"
   ]
  },
  {
   "cell_type": "markdown",
   "metadata": {},
   "source": [
    "#### Explain the meaning of range(begin, end, step), range(begin, end) and range(end)\n",
    "\n",
    "range(a, b, c) is a list that starts at a, and ends at _____ (hint: it does not end at b). \n",
    "\n",
    "The list increases (or decreases) in increments of c. \n",
    "\n",
    "range(a, b) is a list that starts at a, and ends at _____\n",
    "\n",
    "range(n) is a list that starts at 0 and ends at n-1. "
   ]
  },
  {
   "cell_type": "code",
   "execution_count": null,
   "metadata": {
    "collapsed": true
   },
   "outputs": [],
   "source": [
    "# a for loop using a range: \n",
    "for x in range(10):\n",
    "    print x / 100.0"
   ]
  },
  {
   "cell_type": "code",
   "execution_count": null,
   "metadata": {
    "collapsed": true
   },
   "outputs": [],
   "source": [
    "# if xx = range(3, 7), what is xx[0]? What is xx[2]? Write some code to find out. "
   ]
  },
  {
   "cell_type": "code",
   "execution_count": null,
   "metadata": {
    "collapsed": true
   },
   "outputs": [],
   "source": [
    "# write a for loop that will print the number of months until the end of the year \n",
    "# for each month of the year. For example, for month 1 (January), it should print 11. "
   ]
  },
  {
   "cell_type": "markdown",
   "metadata": {},
   "source": [
    "### Working with Strings\n",
    "\n",
    "- strings are iterables like lists\n",
    "- this means that strings can be used in for loops\n",
    "- this means that if x is a string, x[0] is the first character"
   ]
  },
  {
   "cell_type": "code",
   "execution_count": null,
   "metadata": {
    "collapsed": true
   },
   "outputs": [],
   "source": [
    "# run this code to see how strings behave\n",
    "x = \"apple\"\n",
    "print x[0]\n",
    "for item in x: \n",
    "    print item"
   ]
  },
  {
   "cell_type": "markdown",
   "metadata": {},
   "source": [
    "#### More about strings: concatenating\n",
    "\n",
    "Python lets you concatenate (string together) strings using the plus sign. Run the code below and see what happens. "
   ]
  },
  {
   "cell_type": "code",
   "execution_count": null,
   "metadata": {
    "collapsed": true
   },
   "outputs": [],
   "source": [
    "print \"three\" + \"four\"\n",
    "print \"three\" + \" \" + \"and\" + \" \" + \"four\"\n",
    "x = 7\n",
    "print \"Lucy is \" + str(x) + \" years old.\""
   ]
  },
  {
   "cell_type": "code",
   "execution_count": null,
   "metadata": {
    "collapsed": true
   },
   "outputs": [],
   "source": []
  },
  {
   "cell_type": "markdown",
   "metadata": {},
   "source": [
    "# Functions\n",
    "\n",
    "Functions are the basis of programming. If you have to do the same thing over and over again, write a function to do it. Look below for the syntax of a simple function. Like the `if` statement and `for` loop, it has a colon and it requires indentation. \n",
    "\n",
    "Function names cannot begin with numbers. Here is a simple function. "
   ]
  },
  {
   "cell_type": "code",
   "execution_count": null,
   "metadata": {
    "collapsed": true
   },
   "outputs": [],
   "source": [
    "def is_multiple_of_five(num):\n",
    "    # return True if num is a multiple of 5; return False otherwise. \n",
    "    if num % 5 == 0: \n",
    "        return True\n",
    "    else: \n",
    "        return False"
   ]
  },
  {
   "cell_type": "code",
   "execution_count": null,
   "metadata": {
    "collapsed": true
   },
   "outputs": [],
   "source": [
    "print is_multiple_of_five(10)\n",
    "print is_multiple_of_five(26)"
   ]
  },
  {
   "cell_type": "code",
   "execution_count": null,
   "metadata": {
    "collapsed": true
   },
   "outputs": [],
   "source": [
    "x = 105\n",
    "if is_multiple_of_five(x):\n",
    "    print \"Yay! x is a multiple of 5!\""
   ]
  },
  {
   "cell_type": "markdown",
   "metadata": {},
   "source": [
    "#### Watch the input type\n",
    "\n",
    "Functions require specific input types. If you give a function the wrong type it will complain. What type must go into the `is_multiple_of_five` function? "
   ]
  },
  {
   "cell_type": "markdown",
   "metadata": {},
   "source": [
    "#### Pig Latin Function"
   ]
  },
  {
   "cell_type": "code",
   "execution_count": null,
   "metadata": {
    "collapsed": true
   },
   "outputs": [],
   "source": [
    "# write a simple pig-latin function: Given a word w, print out w in its pig latin form. \n",
    "# for now, don't worry about whether the word begins with a vowel or consonant. \n",
    "# as a refresher: given the word \"stop\", print \"top-say\"\n",
    "\n",
    "def pig_latin(w):\n",
    "    # enter code"
   ]
  },
  {
   "cell_type": "code",
   "execution_count": null,
   "metadata": {
    "collapsed": true
   },
   "outputs": [],
   "source": [
    "# run your test cases \n",
    "print pig_latin(\"stop\")\n",
    "print pig_latin(\"berry\")\n",
    "print pig_latin(\"Gregory\")"
   ]
  },
  {
   "cell_type": "code",
   "execution_count": null,
   "metadata": {
    "collapsed": true
   },
   "outputs": [],
   "source": []
  }
 ],
 "metadata": {
  "kernelspec": {
   "display_name": "Python 2",
   "language": "python",
   "name": "python2"
  },
  "language_info": {
   "codemirror_mode": {
    "name": "ipython",
    "version": 2
   },
   "file_extension": ".py",
   "mimetype": "text/x-python",
   "name": "python",
   "nbconvert_exporter": "python",
   "pygments_lexer": "ipython2",
   "version": "2.7.11"
  }
 },
 "nbformat": 4,
 "nbformat_minor": 0
}
